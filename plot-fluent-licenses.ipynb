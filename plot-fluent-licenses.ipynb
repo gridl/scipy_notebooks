{
 "metadata": {
  "name": "plot-fluent-licenses"
 },
 "nbformat": 3,
 "nbformat_minor": 0,
 "worksheets": [
  {
   "cells": [
    {
     "cell_type": "code",
     "collapsed": false,
     "input": [
      "%pylab inline"
     ],
     "language": "python",
     "metadata": {},
     "outputs": [
      {
       "output_type": "stream",
       "stream": "stdout",
       "text": [
        "\n",
        "Welcome to pylab, a matplotlib-based Python environment [backend: module://IPython.zmq.pylab.backend_inline].\n",
        "For more information, type 'help(pylab)'.\n"
       ]
      }
     ],
     "prompt_number": 1
    },
    {
     "cell_type": "code",
     "collapsed": false,
     "input": [
      "import pandas as pd\n",
      "from StringIO import StringIO"
     ],
     "language": "python",
     "metadata": {},
     "outputs": [],
     "prompt_number": 2
    },
    {
     "cell_type": "code",
     "collapsed": false,
     "input": [
      "# example data\n",
      "s = \"\"\"date,user,licenses\n",
      "2013-07-15 10:30:00,wnaessen,10\n",
      "2013-07-15 10:30:00,tvandaele,0\n",
      "2013-07-15 10:30:00,tmaere,5\n",
      "2013-07-15 11:00:00,wnaessen,15\n",
      "2013-07-15 11:00:00,tvandaele,0\n",
      "2013-07-15 11:00:00,tmaere,8\n",
      "2013-07-15 11:30:00,wnaessen,20\n",
      "2013-07-15 11:30:00,tvandaele,2\n",
      "2013-07-15 11:30:00,tmaere,8\n",
      "2013-07-15 12:00:00,wnaessen,25\n",
      "2013-07-15 12:00:00,tvandaele,2\n",
      "2013-07-15 12:00:00,tmaere,0\n",
      "2013-07-15 12:30:00,wnaessen,20\n",
      "2013-07-15 12:30:00,tvandaele,3\n",
      "2013-07-15 12:30:00,tmaere,0\n",
      "\"\"\""
     ],
     "language": "python",
     "metadata": {},
     "outputs": [],
     "prompt_number": 3
    },
    {
     "cell_type": "code",
     "collapsed": false,
     "input": [
      "df = pd.read_csv(StringIO(s), parse_dates=[0] )"
     ],
     "language": "python",
     "metadata": {},
     "outputs": [],
     "prompt_number": 4
    },
    {
     "cell_type": "code",
     "collapsed": false,
     "input": [
      "df"
     ],
     "language": "python",
     "metadata": {},
     "outputs": [
      {
       "html": [
        "<div style=\"max-height:1000px;max-width:1500px;overflow:auto;\">\n",
        "<table border=\"1\" class=\"dataframe\">\n",
        "  <thead>\n",
        "    <tr style=\"text-align: right;\">\n",
        "      <th></th>\n",
        "      <th>date</th>\n",
        "      <th>user</th>\n",
        "      <th>licenses</th>\n",
        "    </tr>\n",
        "  </thead>\n",
        "  <tbody>\n",
        "    <tr>\n",
        "      <th>0 </th>\n",
        "      <td>2013-07-15 10:30:00</td>\n",
        "      <td>  wnaessen</td>\n",
        "      <td> 10</td>\n",
        "    </tr>\n",
        "    <tr>\n",
        "      <th>1 </th>\n",
        "      <td>2013-07-15 10:30:00</td>\n",
        "      <td> tvandaele</td>\n",
        "      <td>  0</td>\n",
        "    </tr>\n",
        "    <tr>\n",
        "      <th>2 </th>\n",
        "      <td>2013-07-15 10:30:00</td>\n",
        "      <td>    tmaere</td>\n",
        "      <td>  5</td>\n",
        "    </tr>\n",
        "    <tr>\n",
        "      <th>3 </th>\n",
        "      <td>2013-07-15 11:00:00</td>\n",
        "      <td>  wnaessen</td>\n",
        "      <td> 15</td>\n",
        "    </tr>\n",
        "    <tr>\n",
        "      <th>4 </th>\n",
        "      <td>2013-07-15 11:00:00</td>\n",
        "      <td> tvandaele</td>\n",
        "      <td>  0</td>\n",
        "    </tr>\n",
        "    <tr>\n",
        "      <th>5 </th>\n",
        "      <td>2013-07-15 11:00:00</td>\n",
        "      <td>    tmaere</td>\n",
        "      <td>  8</td>\n",
        "    </tr>\n",
        "    <tr>\n",
        "      <th>6 </th>\n",
        "      <td>2013-07-15 11:30:00</td>\n",
        "      <td>  wnaessen</td>\n",
        "      <td> 20</td>\n",
        "    </tr>\n",
        "    <tr>\n",
        "      <th>7 </th>\n",
        "      <td>2013-07-15 11:30:00</td>\n",
        "      <td> tvandaele</td>\n",
        "      <td>  2</td>\n",
        "    </tr>\n",
        "    <tr>\n",
        "      <th>8 </th>\n",
        "      <td>2013-07-15 11:30:00</td>\n",
        "      <td>    tmaere</td>\n",
        "      <td>  8</td>\n",
        "    </tr>\n",
        "    <tr>\n",
        "      <th>9 </th>\n",
        "      <td>2013-07-15 12:00:00</td>\n",
        "      <td>  wnaessen</td>\n",
        "      <td> 25</td>\n",
        "    </tr>\n",
        "    <tr>\n",
        "      <th>10</th>\n",
        "      <td>2013-07-15 12:00:00</td>\n",
        "      <td> tvandaele</td>\n",
        "      <td>  2</td>\n",
        "    </tr>\n",
        "    <tr>\n",
        "      <th>11</th>\n",
        "      <td>2013-07-15 12:00:00</td>\n",
        "      <td>    tmaere</td>\n",
        "      <td>  0</td>\n",
        "    </tr>\n",
        "    <tr>\n",
        "      <th>12</th>\n",
        "      <td>2013-07-15 12:30:00</td>\n",
        "      <td>  wnaessen</td>\n",
        "      <td> 20</td>\n",
        "    </tr>\n",
        "    <tr>\n",
        "      <th>13</th>\n",
        "      <td>2013-07-15 12:30:00</td>\n",
        "      <td> tvandaele</td>\n",
        "      <td>  3</td>\n",
        "    </tr>\n",
        "    <tr>\n",
        "      <th>14</th>\n",
        "      <td>2013-07-15 12:30:00</td>\n",
        "      <td>    tmaere</td>\n",
        "      <td>  0</td>\n",
        "    </tr>\n",
        "  </tbody>\n",
        "</table>\n",
        "</div>"
       ],
       "output_type": "pyout",
       "prompt_number": 5,
       "text": [
        "                  date       user  licenses\n",
        "0  2013-07-15 10:30:00   wnaessen        10\n",
        "1  2013-07-15 10:30:00  tvandaele         0\n",
        "2  2013-07-15 10:30:00     tmaere         5\n",
        "3  2013-07-15 11:00:00   wnaessen        15\n",
        "4  2013-07-15 11:00:00  tvandaele         0\n",
        "5  2013-07-15 11:00:00     tmaere         8\n",
        "6  2013-07-15 11:30:00   wnaessen        20\n",
        "7  2013-07-15 11:30:00  tvandaele         2\n",
        "8  2013-07-15 11:30:00     tmaere         8\n",
        "9  2013-07-15 12:00:00   wnaessen        25\n",
        "10 2013-07-15 12:00:00  tvandaele         2\n",
        "11 2013-07-15 12:00:00     tmaere         0\n",
        "12 2013-07-15 12:30:00   wnaessen        20\n",
        "13 2013-07-15 12:30:00  tvandaele         3\n",
        "14 2013-07-15 12:30:00     tmaere         0"
       ]
      }
     ],
     "prompt_number": 5
    },
    {
     "cell_type": "heading",
     "level": 2,
     "metadata": {},
     "source": [
      "OK, nog simpeler met pivot (moet je de index niet zetten)"
     ]
    },
    {
     "cell_type": "code",
     "collapsed": false,
     "input": [
      "df.pivot(index='date', columns='user', values='licenses')"
     ],
     "language": "python",
     "metadata": {},
     "outputs": [
      {
       "html": [
        "<div style=\"max-height:1000px;max-width:1500px;overflow:auto;\">\n",
        "<table border=\"1\" class=\"dataframe\">\n",
        "  <thead>\n",
        "    <tr style=\"text-align: right;\">\n",
        "      <th>user</th>\n",
        "      <th>tmaere</th>\n",
        "      <th>tvandaele</th>\n",
        "      <th>wnaessen</th>\n",
        "    </tr>\n",
        "    <tr>\n",
        "      <th>date</th>\n",
        "      <th></th>\n",
        "      <th></th>\n",
        "      <th></th>\n",
        "    </tr>\n",
        "  </thead>\n",
        "  <tbody>\n",
        "    <tr>\n",
        "      <th>2013-07-15 10:30:00</th>\n",
        "      <td> 5</td>\n",
        "      <td> 0</td>\n",
        "      <td> 10</td>\n",
        "    </tr>\n",
        "    <tr>\n",
        "      <th>2013-07-15 11:00:00</th>\n",
        "      <td> 8</td>\n",
        "      <td> 0</td>\n",
        "      <td> 15</td>\n",
        "    </tr>\n",
        "    <tr>\n",
        "      <th>2013-07-15 11:30:00</th>\n",
        "      <td> 8</td>\n",
        "      <td> 2</td>\n",
        "      <td> 20</td>\n",
        "    </tr>\n",
        "    <tr>\n",
        "      <th>2013-07-15 12:00:00</th>\n",
        "      <td> 0</td>\n",
        "      <td> 2</td>\n",
        "      <td> 25</td>\n",
        "    </tr>\n",
        "    <tr>\n",
        "      <th>2013-07-15 12:30:00</th>\n",
        "      <td> 0</td>\n",
        "      <td> 3</td>\n",
        "      <td> 20</td>\n",
        "    </tr>\n",
        "  </tbody>\n",
        "</table>\n",
        "</div>"
       ],
       "output_type": "pyout",
       "prompt_number": 6,
       "text": [
        "user                 tmaere  tvandaele  wnaessen\n",
        "date                                            \n",
        "2013-07-15 10:30:00       5          0        10\n",
        "2013-07-15 11:00:00       8          0        15\n",
        "2013-07-15 11:30:00       8          2        20\n",
        "2013-07-15 12:00:00       0          2        25\n",
        "2013-07-15 12:30:00       0          3        20"
       ]
      }
     ],
     "prompt_number": 6
    },
    {
     "cell_type": "code",
     "collapsed": false,
     "input": [
      "df.pivot(index='date', columns='user', values='licenses').plot()"
     ],
     "language": "python",
     "metadata": {},
     "outputs": [
      {
       "output_type": "pyout",
       "prompt_number": 8,
       "text": [
        "<matplotlib.axes.AxesSubplot at 0x8eeec50>"
       ]
      },
      {
       "output_type": "display_data",
       "png": "[encoded data removed]"
      }
     ],
     "prompt_number": 8
    },
    {
     "cell_type": "heading",
     "level": 2,
     "metadata": {},
     "source": [
      "Met unstack"
     ]
    },
    {
     "cell_type": "code",
     "collapsed": false,
     "input": [
      "df.set_index(['date', 'user'])"
     ],
     "language": "python",
     "metadata": {},
     "outputs": [
      {
       "html": [
        "<div style=\"max-height:1000px;max-width:1500px;overflow:auto;\">\n",
        "<table border=\"1\" class=\"dataframe\">\n",
        "  <thead>\n",
        "    <tr style=\"text-align: right;\">\n",
        "      <th></th>\n",
        "      <th></th>\n",
        "      <th>licenses</th>\n",
        "    </tr>\n",
        "    <tr>\n",
        "      <th>date</th>\n",
        "      <th>user</th>\n",
        "      <th></th>\n",
        "    </tr>\n",
        "  </thead>\n",
        "  <tbody>\n",
        "    <tr>\n",
        "      <th rowspan=\"3\" valign=\"top\">2013-07-15 10:30:00</th>\n",
        "      <th>wnaessen</th>\n",
        "      <td> 10</td>\n",
        "    </tr>\n",
        "    <tr>\n",
        "      <th>tvandaele</th>\n",
        "      <td>  0</td>\n",
        "    </tr>\n",
        "    <tr>\n",
        "      <th>tmaere</th>\n",
        "      <td>  5</td>\n",
        "    </tr>\n",
        "    <tr>\n",
        "      <th rowspan=\"3\" valign=\"top\">2013-07-15 11:00:00</th>\n",
        "      <th>wnaessen</th>\n",
        "      <td> 15</td>\n",
        "    </tr>\n",
        "    <tr>\n",
        "      <th>tvandaele</th>\n",
        "      <td>  0</td>\n",
        "    </tr>\n",
        "    <tr>\n",
        "      <th>tmaere</th>\n",
        "      <td>  8</td>\n",
        "    </tr>\n",
        "    <tr>\n",
        "      <th rowspan=\"3\" valign=\"top\">2013-07-15 11:30:00</th>\n",
        "      <th>wnaessen</th>\n",
        "      <td> 20</td>\n",
        "    </tr>\n",
        "    <tr>\n",
        "      <th>tvandaele</th>\n",
        "      <td>  2</td>\n",
        "    </tr>\n",
        "    <tr>\n",
        "      <th>tmaere</th>\n",
        "      <td>  8</td>\n",
        "    </tr>\n",
        "    <tr>\n",
        "      <th rowspan=\"3\" valign=\"top\">2013-07-15 12:00:00</th>\n",
        "      <th>wnaessen</th>\n",
        "      <td> 25</td>\n",
        "    </tr>\n",
        "    <tr>\n",
        "      <th>tvandaele</th>\n",
        "      <td>  2</td>\n",
        "    </tr>\n",
        "    <tr>\n",
        "      <th>tmaere</th>\n",
        "      <td>  0</td>\n",
        "    </tr>\n",
        "    <tr>\n",
        "      <th rowspan=\"3\" valign=\"top\">2013-07-15 12:30:00</th>\n",
        "      <th>wnaessen</th>\n",
        "      <td> 20</td>\n",
        "    </tr>\n",
        "    <tr>\n",
        "      <th>tvandaele</th>\n",
        "      <td>  3</td>\n",
        "    </tr>\n",
        "    <tr>\n",
        "      <th>tmaere</th>\n",
        "      <td>  0</td>\n",
        "    </tr>\n",
        "  </tbody>\n",
        "</table>\n",
        "</div>"
       ],
       "output_type": "pyout",
       "prompt_number": 9,
       "text": [
        "                               licenses\n",
        "date                user               \n",
        "2013-07-15 10:30:00 wnaessen         10\n",
        "                    tvandaele         0\n",
        "                    tmaere            5\n",
        "2013-07-15 11:00:00 wnaessen         15\n",
        "                    tvandaele         0\n",
        "                    tmaere            8\n",
        "2013-07-15 11:30:00 wnaessen         20\n",
        "                    tvandaele         2\n",
        "                    tmaere            8\n",
        "2013-07-15 12:00:00 wnaessen         25\n",
        "                    tvandaele         2\n",
        "                    tmaere            0\n",
        "2013-07-15 12:30:00 wnaessen         20\n",
        "                    tvandaele         3\n",
        "                    tmaere            0"
       ]
      }
     ],
     "prompt_number": 9
    },
    {
     "cell_type": "code",
     "collapsed": false,
     "input": [
      "df.set_index(['date', 'user']).unstack(level=1)"
     ],
     "language": "python",
     "metadata": {},
     "outputs": [
      {
       "html": [
        "<div style=\"max-height:1000px;max-width:1500px;overflow:auto;\">\n",
        "<table border=\"1\" class=\"dataframe\">\n",
        "  <thead>\n",
        "    <tr>\n",
        "      <th></th>\n",
        "      <th colspan=\"3\" halign=\"left\">licenses</th>\n",
        "    </tr>\n",
        "    <tr>\n",
        "      <th>user</th>\n",
        "      <th>tmaere</th>\n",
        "      <th>tvandaele</th>\n",
        "      <th>wnaessen</th>\n",
        "    </tr>\n",
        "    <tr>\n",
        "      <th>date</th>\n",
        "      <th></th>\n",
        "      <th></th>\n",
        "      <th></th>\n",
        "    </tr>\n",
        "  </thead>\n",
        "  <tbody>\n",
        "    <tr>\n",
        "      <th>2013-07-15 10:30:00</th>\n",
        "      <td> 5</td>\n",
        "      <td> 0</td>\n",
        "      <td> 10</td>\n",
        "    </tr>\n",
        "    <tr>\n",
        "      <th>2013-07-15 11:00:00</th>\n",
        "      <td> 8</td>\n",
        "      <td> 0</td>\n",
        "      <td> 15</td>\n",
        "    </tr>\n",
        "    <tr>\n",
        "      <th>2013-07-15 11:30:00</th>\n",
        "      <td> 8</td>\n",
        "      <td> 2</td>\n",
        "      <td> 20</td>\n",
        "    </tr>\n",
        "    <tr>\n",
        "      <th>2013-07-15 12:00:00</th>\n",
        "      <td> 0</td>\n",
        "      <td> 2</td>\n",
        "      <td> 25</td>\n",
        "    </tr>\n",
        "    <tr>\n",
        "      <th>2013-07-15 12:30:00</th>\n",
        "      <td> 0</td>\n",
        "      <td> 3</td>\n",
        "      <td> 20</td>\n",
        "    </tr>\n",
        "  </tbody>\n",
        "</table>\n",
        "</div>"
       ],
       "output_type": "pyout",
       "prompt_number": 10,
       "text": [
        "                     licenses                     \n",
        "user                   tmaere  tvandaele  wnaessen\n",
        "date                                              \n",
        "2013-07-15 10:30:00         5          0        10\n",
        "2013-07-15 11:00:00         8          0        15\n",
        "2013-07-15 11:30:00         8          2        20\n",
        "2013-07-15 12:00:00         0          2        25\n",
        "2013-07-15 12:30:00         0          3        20"
       ]
      }
     ],
     "prompt_number": 10
    },
    {
     "cell_type": "code",
     "collapsed": false,
     "input": [
      "# a one-liner!! :-)\n",
      "df.set_index(['date', 'user']).unstack(level=1).plot()"
     ],
     "language": "python",
     "metadata": {},
     "outputs": [
      {
       "output_type": "pyout",
       "prompt_number": 11,
       "text": [
        "<matplotlib.axes.AxesSubplot at 0x8f000b8>"
       ]
      },
      {
       "output_type": "display_data",
       "png": "[encoded data removed]"
      }
     ],
     "prompt_number": 11
    },
    {
     "cell_type": "code",
     "collapsed": false,
     "input": [
      "df.set_index(['date', 'user']).unstack(level=1).plot(subplots=True)"
     ],
     "language": "python",
     "metadata": {},
     "outputs": [
      {
       "output_type": "pyout",
       "prompt_number": 12,
       "text": [
        "array([<matplotlib.axes.AxesSubplot object at 0x0000000008D73080>,\n",
        "       <matplotlib.axes.AxesSubplot object at 0x0000000009312240>,\n",
        "       <matplotlib.axes.AxesSubplot object at 0x00000000093304A8>], dtype=object)"
       ]
      },
      {
       "output_type": "display_data",
       "png": "[encoded data removed]"
      }
     ],
     "prompt_number": 12
    },
    {
     "cell_type": "heading",
     "level": 2,
     "metadata": {},
     "source": [
      "Iets nettere versie"
     ]
    },
    {
     "cell_type": "code",
     "collapsed": false,
     "input": [
      "df = df.set_index(['date', 'user'])\n",
      "df_user = df.unstack(level=1)\n",
      "# use only user names (second level) as column names\n",
      "df_user.columns = df_user.columns.get_level_values(1)"
     ],
     "language": "python",
     "metadata": {},
     "outputs": [],
     "prompt_number": 13
    },
    {
     "cell_type": "code",
     "collapsed": false,
     "input": [
      "df_user"
     ],
     "language": "python",
     "metadata": {},
     "outputs": [
      {
       "html": [
        "<div style=\"max-height:1000px;max-width:1500px;overflow:auto;\">\n",
        "<table border=\"1\" class=\"dataframe\">\n",
        "  <thead>\n",
        "    <tr style=\"text-align: right;\">\n",
        "      <th>user</th>\n",
        "      <th>tmaere</th>\n",
        "      <th>tvandaele</th>\n",
        "      <th>wnaessen</th>\n",
        "    </tr>\n",
        "    <tr>\n",
        "      <th>date</th>\n",
        "      <th></th>\n",
        "      <th></th>\n",
        "      <th></th>\n",
        "    </tr>\n",
        "  </thead>\n",
        "  <tbody>\n",
        "    <tr>\n",
        "      <th>2013-07-15 10:30:00</th>\n",
        "      <td> 5</td>\n",
        "      <td> 0</td>\n",
        "      <td> 10</td>\n",
        "    </tr>\n",
        "    <tr>\n",
        "      <th>2013-07-15 11:00:00</th>\n",
        "      <td> 8</td>\n",
        "      <td> 0</td>\n",
        "      <td> 15</td>\n",
        "    </tr>\n",
        "    <tr>\n",
        "      <th>2013-07-15 11:30:00</th>\n",
        "      <td> 8</td>\n",
        "      <td> 2</td>\n",
        "      <td> 20</td>\n",
        "    </tr>\n",
        "    <tr>\n",
        "      <th>2013-07-15 12:00:00</th>\n",
        "      <td> 0</td>\n",
        "      <td> 2</td>\n",
        "      <td> 25</td>\n",
        "    </tr>\n",
        "    <tr>\n",
        "      <th>2013-07-15 12:30:00</th>\n",
        "      <td> 0</td>\n",
        "      <td> 3</td>\n",
        "      <td> 20</td>\n",
        "    </tr>\n",
        "  </tbody>\n",
        "</table>\n",
        "</div>"
       ],
       "output_type": "pyout",
       "prompt_number": 14,
       "text": [
        "user                 tmaere  tvandaele  wnaessen\n",
        "date                                            \n",
        "2013-07-15 10:30:00       5          0        10\n",
        "2013-07-15 11:00:00       8          0        15\n",
        "2013-07-15 11:30:00       8          2        20\n",
        "2013-07-15 12:00:00       0          2        25\n",
        "2013-07-15 12:30:00       0          3        20"
       ]
      }
     ],
     "prompt_number": 14
    },
    {
     "cell_type": "code",
     "collapsed": false,
     "input": [
      "df_user.plot()"
     ],
     "language": "python",
     "metadata": {},
     "outputs": [
      {
       "output_type": "pyout",
       "prompt_number": 15,
       "text": [
        "<matplotlib.axes.AxesSubplot at 0x933f908>"
       ]
      },
      {
       "output_type": "display_data",
       "png": "[encoded data removed]"
      }
     ],
     "prompt_number": 15
    }
   ],
   "metadata": {}
  }
 ]
}